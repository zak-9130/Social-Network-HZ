{
 "cells": [
  {
   "cell_type": "code",
   "execution_count": 48,
   "metadata": {},
   "outputs": [],
   "source": [
    "#graph.delete_all()\n",
    "from py2neo import Graph\n",
    "from neo4j import GraphDatabase\n",
    "import plotly\n",
    "from py2neo.data import Node, Relationship\n",
    "from py2neo.ogm import *\n",
    "import string\n",
    "graph.delete\n",
    "graph= Graph(uri=\"bolt://localhost:7687\", auth=(\"neo4j\", \"hicham\"))\n",
    "tx=graph.begin()"
   ]
  },
  {
   "cell_type": "code",
   "execution_count": 49,
   "metadata": {},
   "outputs": [],
   "source": [
    "from datetime import datetime \n",
    "from datetime import datetime as dt\n",
    "t_queenB = dt(2010, 5, 17,20,52,23)\n",
    "t_sarko=dt(2021, 4, 17,22,52,23)\n",
    "t_kaaris=dt(2019, 8, 17,12,52,23)\n",
    "t_rohff=dt(2014, 8, 1,14,52,23)\n",
    "a=Node(\"users\",ID=204542,password=\"jayz\",email=\"singlelady@gmail.com\",name=\"Beyoncé Carter\",user_name=\"Queen B\",city=\"Miami\",create_at=t_queenB,image_profil=\"https://image/QueenB/storage.net\",age=39)\n",
    "b=Node(\"users\",ID=204652,password=\"carla\",email=\"prison@gmail.com\",name=\"Nicolas Sarkozy\",user_name=\"Sarko\",city=\"Prison de la Santé\",create_at=t_sarko,image_profil=\"https://image/Carla/storage.net\",age=66)\n",
    "c=Node(\"users\",ID=212252,password=\"sevran\",email=\"sevran27@gmail.com\",name=\"Kaaris\",user_name=\"Armand Okou\",city=\"Orly\",create_at=t_kaaris,image_profil=\"https://image/Orly/storage.net\",age=41)\n",
    "d=Node(\"users\",ID=122232,password=\"housni\",email=\"vitry@gmail.com\",name=\"ROH2F\",user_name=\"Housni Mkouboi\",city=\"Moroni\",create_at=t_rohff,image_profil=\"https://image/moroni/storage.net\",age=43)\n",
    "\n"
   ]
  },
  {
   "cell_type": "code",
   "execution_count": 50,
   "metadata": {},
   "outputs": [],
   "source": [
    "e= Node(\"tweet\",name=\"Tweet2023\",ID=2023,user_id=122232,author=\"Rohff\",text=\"Sarko: je vais laver les cellules au karcher\",date=dt.now(),url=\"https://no8gtwrdv.fr\",Like=76111,hashtag='#prison')\n",
    "f= Node(\"tweet\",name=\"Tweet123\",ID=2067,user_id=122232,author=\"Kaaris\",text=\"AHAHAHAHAHA\",date=dt.now(),url=\"https://no8gtwrdv.fr\",Like=76111,hashtag='#prison')\n",
    "\n",
    "g= Node(\"Follow\",name=\"Follow122232\",user_id=122232,followers=['Serge', 'René','Bernard','Lola'],Followers_id=[2223,2212,547778,1123],Following=['Serge', 'René','Bernard','Lola'],Following_id=[2223,2212,547778,1123])\n",
    "h= Node(\"Follow\",name=\"Follow233332\",user_id=543332,followers=['Serge', 'René','Bernard','Lola'],Followers_id=[2223,21012,56358,888],Following=['Serge', 'arnaud','Pierre','Lola'],Following_id=[223,2212,111778,1165])\n",
    "i= Node(\"Follow\",name=\"Follow566732\",user_id=233432,followers=['Pascal', 'arnaud','Pierre','Franck'],Followers_id=[1233,676,54344,432],Following=['Pascal', 'arnaud','Pierre','Franck'],Following_id=[20093,3892,234778,4423])\n",
    "\n",
    "\n",
    "j= Node(\"Media\",forme='image1222',ID=204542,image=\"https://kelie,skie.fr\",user_id=3222232)\n",
    "k= Node(\"Media\",forme='video233',ID=204542,image=\"https://kelie,skie.fr\",user_id=1235632)\n",
    "l=Node(\"Media\",forme='video455A',ID=20433,image=\"https://kelie,Z2skie.fr\",user_id=4552)\n",
    "m= Node(\"Media\",forme='image65S',ID=273362,image=\"https://353e,skie.fr\",user_id=1123)\n",
    "n= Node(\"Media\",forme='video542',ID=2048772,image=\"https://ke3iskie.fr\",user_id=78932)\n",
    "o=Node(\"Media\",forme='video223',ID=31433,image=\"https://ù^dd,Z2skie.fr\",user_id=4353)\n",
    "\n",
    "p= Node(\"Count\",name=\"Count123232\",user_id=123232,tweet_id=25688,followers=52776,following=5665253,Like=6255,Retweet=6255)\n",
    "q= Node(\"Count\",name=\"Count67733\",user_id=33232,tweet=233488,followers=52776,following=5665253,Like=8955,Retweet=5355)\n",
    "\n",
    "options={\"users\":\"name\",\"tweeet\":\"name\",\"Follow\":\"name\",\"Media\":\"forme\",\"Count\":\"name\"}\n",
    "\n",
    "\n",
    "\n",
    "\n",
    "\n",
    "\n"
   ]
  },
  {
   "cell_type": "code",
   "execution_count": 51,
   "metadata": {},
   "outputs": [],
   "source": [
    "#for i in string.ascii_lowercase[0:17]:\n",
    "#    print(i)\n",
    "tx.create(a)   \n",
    "tx.create(b) \n",
    "tx.create(c) \n",
    "tx.create(d) \n",
    "tx.create(f) \n",
    "tx.create(g) \n",
    "tx.create(h) \n",
    "tx.create(i) \n",
    "tx.create(j) \n",
    "tx.create(k) \n",
    "tx.create(l) \n",
    "tx.create(m) \n",
    "tx.create(n) \n",
    "tx.create(o) \n",
    "tx.create(p) \n",
    "tx.create(q) \n",
    "\n",
    "    \n"
   ]
  },
  {
   "cell_type": "code",
   "execution_count": 52,
   "metadata": {},
   "outputs": [
    {
     "data": {
      "text/plain": [
       "<py2neo.database.work.TransactionSummary at 0x7fd2ab4d73d0>"
      ]
     },
     "execution_count": 52,
     "metadata": {},
     "output_type": "execute_result"
    }
   ],
   "source": [
    "tx.commit()"
   ]
  },
  {
   "cell_type": "code",
   "execution_count": 55,
   "metadata": {},
   "outputs": [],
   "source": [
    "graph.create(Relationship(a,\"Follow\",b))\n",
    "\n"
   ]
  },
  {
   "cell_type": "code",
   "execution_count": 56,
   "metadata": {},
   "outputs": [],
   "source": [
    "graph.create(Relationship(d,\"Follow\",c))\n",
    "graph.create(Relationship(a,\"Follow\",c))\n",
    "graph.create(Relationship(c,\"Follow\",d))\n",
    "graph.create(Relationship(d,\"Tweet\",e))\n",
    "graph.create(Relationship(c,\"Retweet\",f))\n",
    "graph.create(Relationship(a,\"Follow\",g))\n",
    "graph.create(Relationship(b,\"Follow\",i))\n",
    "graph.create(Relationship(c,\"Follow\",h))\n",
    "graph.create(Relationship(d,\"Media\",j))\n",
    "graph.create(Relationship(d,\"Media\",l))\n",
    "graph.create(Relationship(a,\"Media\",m))\n",
    "graph.create(Relationship(b,\"Media\",o))\n",
    "graph.create(Relationship(c,\"Media\",n))\n",
    "graph.create(Relationship(a,\"Count\",q))\n",
    "graph.create(Relationship(b,\"Count\",p))\n",
    "\n",
    "\n",
    "graph.create(Relationship(e,\"Tweet_group\",f))\n",
    "\n",
    "\n",
    "graph.create(Relationship(g,\"Follow_group\",h))\n",
    "graph.create(Relationship(g,\"Follow_group\",i))\n",
    "\n",
    "\n",
    "graph.create(Relationship(j,\"Media_group\",k))\n",
    "graph.create(Relationship(j,\"Media_group\",l))\n",
    "graph.create(Relationship(j,\"Media_group\",m))\n",
    "graph.create(Relationship(j,\"Media_group\",n))\n",
    "graph.create(Relationship(j,\"Media_group\",o))\n",
    "\n",
    "graph.create(Relationship(p,\"Count_group\",q))\n",
    "\n"
   ]
  },
  {
   "cell_type": "code",
   "execution_count": null,
   "metadata": {},
   "outputs": [],
   "source": []
  }
 ],
 "metadata": {
  "kernelspec": {
   "display_name": "Python 3",
   "language": "python",
   "name": "python3"
  },
  "language_info": {
   "codemirror_mode": {
    "name": "ipython",
    "version": 3
   },
   "file_extension": ".py",
   "mimetype": "text/x-python",
   "name": "python",
   "nbconvert_exporter": "python",
   "pygments_lexer": "ipython3",
   "version": "3.7.6"
  }
 },
 "nbformat": 4,
 "nbformat_minor": 4
}
